{
 "cells": [
  {
   "cell_type": "markdown",
   "metadata": {},
   "source": [
    "# Introduction to Artificial Intelligence for Non Computing"
   ]
  },
  {
   "cell_type": "markdown",
   "metadata": {},
   "source": [
    "## Practical 2 (weeks 3 - 4)"
   ]
  },
  {
   "cell_type": "markdown",
   "metadata": {},
   "source": [
    "## Search Techniques"
   ]
  },
  {
   "cell_type": "markdown",
   "metadata": {},
   "source": [
    "The following links provide additional information about depth first search and breath first search"
   ]
  },
  {
   "cell_type": "markdown",
   "metadata": {},
   "source": [
    "- Depth first search:   link：https://pan.baidu.com/s/1bkLHKKbSBNpfFuKwDyURqw  password：oy76\n",
    "- Breath first search:  link：https://pan.baidu.com/s/176g5q0W3rGbSAM5tZMraeg   password：7mdh"
   ]
  },
  {
   "cell_type": "markdown",
   "metadata": {},
   "source": [
    "#### Theory Questions "
   ]
  },
  {
   "cell_type": "markdown",
   "metadata": {},
   "source": [
    "1\\. What is an algorithm? A sequence of steps such as a recipe or a movie script.\n",
    "\n",
    "As a movie viewer, please write an algorithm for a process to \"see a movie\". Include details of the following for example (add additional information yourself):\n",
    "\t- The start conditions \n",
    "\t-- I want to watch a movie\n",
    "\t- Roles (people/actors involved) \n",
    "    --watcher, ticket seller etc \n",
    "    -Equipment required (\"props\")\n",
    "    --seats, ticket etc\n",
    "    - The scenes \n",
    "    -- scene 1 - buy ticket \n",
    "    -- ??? what happens next\n",
    "    -- scene 3, scene 3 ...\n",
    "    - Results/outcomes\n",
    "    -- ?\n"
   ]
  },
  {
   "cell_type": "markdown",
   "metadata": {},
   "source": [
    "_your answer here..._ \n",
    "\n",
    "***\n",
    "1.I want to watch a movie and I have enough money and time; 2.role: I, the conductor, the projector, the watchers, the doorman;3.props:tickets, seats, projection equipments, money; 3. Scene: scene one- I went to the ticket office to buy the movie tickets and the conductor took the money and give me the ticket; two--I go to the cinema with the ticket and show it to the doorman; three--I find my seats and sit down;four--the movie is so attracted and I was absorbed in the movie;five--the movie is finishes and I go back home; 4.results: I have a good time in cinema; I spend my money."
   ]
  },
  {
   "cell_type": "markdown",
   "metadata": {},
   "source": [
    "2\\. A farmer with his wolf, duck and bag of corn come to the east side of a river they wish to cross. There is a boat at the rivers edge, but of course only the farmer can row. The boat can only hold two things (including the rower) at any one time. If the wolf is ever left alone with the duck, the wolf will eat it. Similarly if the duck is ever left alone with the corn, the duck will eat it. How can the farmer get across the river so that all four arrive safely on the other side? "
   ]
  },
  {
   "cell_type": "markdown",
   "metadata": {},
   "source": [
    "_your answer here..._ \n",
    "\n",
    "***\n",
    "1.the farmer takes the duck to the left bank;\n",
    "2.farmer returens alone to the right bank;\n",
    "3.the farmer takes the wolf to the left bank;\n",
    "4.farmer returns with duck to the right bank;\n",
    "5.the farmer takes the corn to the left bank;\n",
    "6.farmer returns alone to the right bank;\n",
    "7.the farmer takes the duck to the left bank."
   ]
  },
  {
   "cell_type": "markdown",
   "metadata": {},
   "source": [
    " "
   ]
  },
  {
   "cell_type": "markdown",
   "metadata": {},
   "source": [
    "3\\.Explain why we determine our problem goals before we write the problem formulation (including the model and deciding what algorithm or techniques to use - for example search, or other method).\n",
    "\n",
    "See Chapter3.1 (Russel & Norvig)"
   ]
  },
  {
   "cell_type": "markdown",
   "metadata": {},
   "source": [
    "_your answer here..._ \n",
    "\n",
    "****\n",
    "In goal formulation, we decide which aspects of the world we are interested in, and which can be ignored or abstrcted away. Then in problem formulation we decide how to manipulate the important aspects(and ignore the others). If we did problem formulation first we would not know what to include and what to leave out. That said, it can happen that there is a cycle of interations between goal formulation, problem formulation, and problem solving until one arrives at a sufficiently useful and efficient solution."
   ]
  },
  {
   "cell_type": "markdown",
   "metadata": {},
   "source": [
    "4\\. This question requires you to perform BFS and DFS on paper.\n",
    "\n",
    "<img src=\"img/p1.png\" width=\"180\" height=\"180\" >\n",
    "\n",
    "1. Simulate (on pencil-and-paper) breadth-first search starting from node A when the goal node is K.\n",
    "2. Simulate (on pencil-and-paper) depth first search starting from node A when the goal node is I.\n"
   ]
  },
  {
   "cell_type": "markdown",
   "metadata": {},
   "source": [
    "1. _your answer here..._\n",
    "A,B,C,D,E,F,H,G,I,K(goal)\n",
    "\n",
    "2. _your answer here..._\n",
    "A,B,C,E,F,D,H,I(goal)\n",
    "\n",
    "***"
   ]
  },
  {
   "cell_type": "markdown",
   "metadata": {},
   "source": [
    "5\\.Consider a state space where the start state is number 1 and each state  k has two successors: numbers 2k and 2k + 1.\n",
    "- a. Draw the portion of the state space for states 1 to 15.\n",
    "- b. Suppose the goal state is 11. List the order in which nodes will be visited for breadthfirst\n",
    "search, depth-limited search with limit 3, and iterative deepening search.\n",
    "- c. How well would bidirectional search work on this problem? What is the branching\n",
    "factor in each direction of the bidirectional search?\n",
    "- d. Does the answer to (c) suggest a reformulation of the problem that would allow you to\n",
    "solve the problem of getting from state 1 to a given goal state with almost no search?\n",
    "- e. Call the action going from k to 2k Left, and the action going to 2k + 1 Right. Can you\n",
    "find an algorithm that outputs the solution to this problem without any search at all?\n",
    "\n",
    "See textbook Chapter3.15"
   ]
  },
  {
   "cell_type": "markdown",
   "metadata": {},
   "source": [
    "_your answer here..._ \n",
    "a.                     1\n",
    "\n",
    "                 2     |     3 \n",
    "\n",
    "     4     |     5     |     7     |    6\n",
    "\n",
    "  8  |  9  | 10  | 11  | 15  | 14  | 13  | 12\n",
    "\n",
    "16 17|18 19|20 21|22 23|30 31|28 29|26 27|24 25 \n",
    "\n",
    "b.\n",
    "breadthfirst search:1 2 3 4 5 6 7 8 9 10 11\n",
    "depth-limit search: 1 2 4 8 9 5 10 11 \n",
    "iterative deepening search:1, 1 2 3, 1 2 4 5 3 6 7, 1 2 4 8 9 5 10 11\n",
    "\n",
    "c.The only successor of n in the reverse direction is [(n/2)], so it's very useful to solve this question. The branching factor is 2 in the forward direction; 1 in the reverse direction.\n",
    "\n",
    "d.Yes, starting at the goal, and apply the single reverse successor action until you reach 1.\n"
   ]
  },
  {
   "cell_type": "markdown",
   "metadata": {},
   "source": [
    "### Programming Excercises"
   ]
  },
  {
   "cell_type": "markdown",
   "metadata": {},
   "source": [
    "1\\.Write a program to solve a classic ancient Chinese puzzle:  \n",
    " We count 35 heads and 94 legs among the chickens and rabbits in a farm. How many rabbits and how many chickens do we have? "
   ]
  },
  {
   "cell_type": "code",
   "execution_count": 2,
   "metadata": {},
   "outputs": [
    {
     "name": "stdout",
     "output_type": "stream",
     "text": [
      "[('rabbit :', 23), ('chickens :', 12)]\n"
     ]
    }
   ],
   "source": [
    "def rabbitAndChicken(heads,legs):\n",
    "    cnum = legs/2-heads\n",
    "    rnum = heads - cnum\n",
    "    return [(\"rabbit :\",int(rnum)),(\"chickens :\",int(cnum))]\n",
    "\n",
    "print (rabbitAndChicken(35,94))"
   ]
  },
  {
   "cell_type": "markdown",
   "metadata": {},
   "source": [
    "2\\. _Social networking_ Please look at the graph below of social relationships. You have a mango farm, you need to find a mango buyer and sell him your mango that you have grown (just a small farm). To this end, our principle is to use our social network of friends separated by one degree, and then second degree friends (friends of friends), third degree friends (friends of friends of friends).\n",
    "\n",
    "Use the depth first algorithm to search your network until you find a mango seller. \n",
    "\n",
    "We make an assumption that if the person's name ends with m, then it means the person must be the mango seller!\n",
    "\n",
    "\n",
    "<img src=\"img/p3.png\" width=\"500\" height=\"400\" >"
   ]
  },
  {
   "cell_type": "code",
   "execution_count": 6,
   "metadata": {},
   "outputs": [
    {
     "name": "stdout",
     "output_type": "stream",
     "text": [
      "The mango seller is : thom\n"
     ]
    }
   ],
   "source": [
    "network = {}\n",
    "network[\"you\"] = [\"bob\",\"alice\",\"claire\"]\n",
    "network[\"bob\"] = [\"anuj\",\"peggy\"]\n",
    "network[\"alice\"] = [\"peggy\"]\n",
    "network[\"claire\"] = [\"thom\",\"jonny\"]\n",
    "network[\"anuj\"] = []\n",
    "network[\"peggy\"] = []\n",
    "network[\"thom\"] = []\n",
    "network[\"jonny\"] = []\n",
    "\n",
    "def depthFirst(name,net):\n",
    "    if name[-1] == \"m\":\n",
    "        print (\"The mango seller is : \"+ name)\n",
    "    else:\n",
    "        for friend in net[name]:\n",
    "            depthFirst(friend,net)\n",
    "        \n",
    "depthFirst(\"you\",network)"
   ]
  },
  {
   "cell_type": "markdown",
   "metadata": {},
   "source": [
    "3\\. Depth First traverse：Use depth first traversal to traverse all the DLL files on the C disk and output the file names.\n",
    "\n",
    "Update your code to search for a particular filename.\n",
    "\n",
    "What protocol did you use to select the next node to expand on the fringe?"
   ]
  },
  {
   "cell_type": "code",
   "execution_count": 24,
   "metadata": {},
   "outputs": [
    {
     "name": "stdout",
     "output_type": "stream",
     "text": [
      "test.txt\n"
     ]
    }
   ],
   "source": [
    "import os\n",
    "\n",
    "def depth(name,path,filetype = \"\") :\n",
    "    newPath = path+\"/\"+name\n",
    "    the_list = os.listdir(newPath)\n",
    "    the_list_with_path = [newPath+\"/\"+x for x in the_list]\n",
    "    testdir = list(map(os.path.isdir,the_list_with_path))\n",
    "    if True in testdir:\n",
    "        for i in range(0,len(the_list)):\n",
    "            if testdir[i] :\n",
    "                depth(the_list[i],newPath,filetype)\n",
    "        for j in range(0,len(the_list)):\n",
    "            if testdir[j] == False and filetype in the_list[j]:\n",
    "                print(the_list[j])\n",
    "    else:\n",
    "        for m in the_list:\n",
    "            if filetype in m:\n",
    "                print(m)\n",
    "\n",
    "depth(\"Downloads\",\"/Users/GONG GUOYU\",\"txt\")"
   ]
  },
  {
   "cell_type": "markdown",
   "metadata": {},
   "source": [
    "4\\.\n",
    "Breadth First traverse：Use breadth traversal to traverse all the DLL files on the C disk and output the filename.\n",
    "\n",
    "Update your code to search for a particular filename."
   ]
  },
  {
   "cell_type": "code",
   "execution_count": 20,
   "metadata": {},
   "outputs": [
    {
     "name": "stdout",
     "output_type": "stream",
     "text": [
      "test.txt\n"
     ]
    }
   ],
   "source": [
    "import os\n",
    "\n",
    "def Breadth(dir_and_path,filetype = \"\") :\n",
    "    new_dic = {}\n",
    "    for dirname,path in dir_and_path.items():\n",
    "        dirpath = path + \"/\" + dirname\n",
    "        the_list = os.listdir(dirpath) \n",
    "        for th in the_list:\n",
    "            if os.path.isdir(dirpath+\"/\"+th):\n",
    "                new_dic[th] = dirpath\n",
    "            else:\n",
    "                if filetype in th:\n",
    "                    print(th)          \n",
    "    if len(new_dic) != 0:\n",
    "        Breadth(new_dic,filetype)\n",
    "                \n",
    "Breadth({\"Downloads\":\"/Users/GONG GUOYU\"},\"txt\")"
   ]
  },
  {
   "cell_type": "markdown",
   "metadata": {},
   "source": [
    "5\\. Uniform cost search"
   ]
  },
  {
   "cell_type": "markdown",
   "metadata": {},
   "source": [
    "Consider a state space where the start state is 2 and each state k has three successors: numbers 2k, 2k+1, 2k+2. The cost from state k to each respective child is k, ground(k/2), k+2.\n",
    "\n",
    "can you implement a uniform-cost-search algorithm with python. The goal state is number 85."
   ]
  },
  {
   "cell_type": "code",
   "execution_count": 25,
   "metadata": {},
   "outputs": [
    {
     "name": "stdout",
     "output_type": "stream",
     "text": [
      "53\n"
     ]
    }
   ],
   "source": [
    "import math\n",
    "\n",
    "goal_state = 85\n",
    "state_space = [-1] * (goal_state + 2)\n",
    "state_space[2] = 0\n",
    "\n",
    "for k in range(2, goal_state // 2 + 2):\n",
    "    if state_space[k] != -1: \n",
    "        for num, cost in [(k * 2, k), (k * 2 + 1, math.floor(k / 2)), (k * 2 + 2, k + 2)]:\n",
    "            if num <= goal_state:\n",
    "                if state_space[num] == -1:\n",
    "                    state_space[num] = state_space[k] + cost\n",
    "                else:\n",
    "                    state_space[num] = min(state_space[num], state_space[k] + cost)\n",
    "print(state_space[goal_state])"
   ]
  },
  {
   "cell_type": "markdown",
   "metadata": {},
   "source": [
    "6\\.a* question"
   ]
  },
  {
   "cell_type": "markdown",
   "metadata": {},
   "source": [
    "A cute cat stays in the A position, he is hungry. But the food is placed in the B position. Can you help him to find the food? \n",
    "Hint:  The problem isn't easy. It's essential for you to understand the A* algorithm before you solve this problem. Then, you can use some thought of Node in java, when you are in code.\n",
    "\n",
    "<img src=\"img/p4.png\" width=\"500\" height=\"400\" >\n"
   ]
  },
  {
   "cell_type": "code",
   "execution_count": null,
   "metadata": {},
   "outputs": [],
   "source": [
    "## write your answer here!"
   ]
  }
 ],
 "metadata": {
  "kernelspec": {
   "display_name": "Python 3",
   "language": "python",
   "name": "python3"
  },
  "language_info": {
   "codemirror_mode": {
    "name": "ipython",
    "version": 3
   },
   "file_extension": ".py",
   "mimetype": "text/x-python",
   "name": "python",
   "nbconvert_exporter": "python",
   "pygments_lexer": "ipython3",
   "version": "3.6.5"
  }
 },
 "nbformat": 4,
 "nbformat_minor": 2
}
